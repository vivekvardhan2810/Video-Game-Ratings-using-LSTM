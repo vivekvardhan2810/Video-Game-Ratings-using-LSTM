{
  "cells": [
    {
      "cell_type": "code",
      "source": [
        "import pandas as pd\n",
        "import numpy as np\n",
        "from sklearn.preprocessing import LabelEncoder, MinMaxScaler\n",
        "from sklearn.model_selection import train_test_split"
      ],
      "metadata": {
        "id": "X2bgYpHJ9rBX"
      },
      "execution_count": 1,
      "outputs": []
    },
    {
      "cell_type": "code",
      "source": [
        "file_path = '/content/Video_Game_Information.csv'\n",
        "video_game_data = pd.read_csv(file_path)"
      ],
      "metadata": {
        "id": "IyaSdIK8-crr"
      },
      "execution_count": 2,
      "outputs": []
    },
    {
      "cell_type": "code",
      "source": [
        "# Encode categorical variables\n",
        "label_encoders = {}\n",
        "for column in ['Title', 'Genre', 'Platform']:\n",
        "    le = LabelEncoder()\n",
        "    video_game_data[column] = le.fit_transform(video_game_data[column])\n",
        "    label_encoders[column] = le"
      ],
      "metadata": {
        "id": "klfCGqAO-kmV"
      },
      "execution_count": 3,
      "outputs": []
    },
    {
      "cell_type": "code",
      "source": [
        "# Normalize numerical variables\n",
        "scaler = MinMaxScaler()\n",
        "video_game_data[['ReleaseYear', 'NumPlayers']] = scaler.fit_transform(video_game_data[['ReleaseYear', 'NumPlayers']])"
      ],
      "metadata": {
        "id": "9c0xMNqE-pEk"
      },
      "execution_count": 4,
      "outputs": []
    },
    {
      "cell_type": "code",
      "source": [
        "# Prepare features and labels\n",
        "X = video_game_data[['Title', 'Genre', 'Platform', 'ReleaseYear', 'NumPlayers']].values\n",
        "y = video_game_data['AvgRating'].values"
      ],
      "metadata": {
        "id": "yLJ8roLj-rXw"
      },
      "execution_count": 5,
      "outputs": []
    },
    {
      "cell_type": "code",
      "source": [
        "# Split the dataset\n",
        "X_train, X_test, y_train, y_test = train_test_split(X, y, test_size=0.2, random_state=42)"
      ],
      "metadata": {
        "id": "SZBUIKQ6-ubr"
      },
      "execution_count": 6,
      "outputs": []
    },
    {
      "cell_type": "code",
      "source": [
        "import tensorflow as tf\n",
        "from tensorflow.keras.models import Sequential\n",
        "from tensorflow.keras.layers import LSTM, Dense, Dropout"
      ],
      "metadata": {
        "id": "ySWZxkA--xZ_"
      },
      "execution_count": 7,
      "outputs": []
    },
    {
      "cell_type": "code",
      "source": [
        "# Define the model\n",
        "model = Sequential()\n",
        "model.add(LSTM(50, return_sequences=True, input_shape=(X_train.shape[1], 1)))\n",
        "model.add(Dropout(0.2))\n",
        "model.add(LSTM(50, return_sequences=False))\n",
        "model.add(Dropout(0.2))\n",
        "model.add(Dense(25))\n",
        "model.add(Dense(1))"
      ],
      "metadata": {
        "id": "fKeh8ZRc-2x1"
      },
      "execution_count": 8,
      "outputs": []
    },
    {
      "cell_type": "code",
      "source": [
        "# Compile the model\n",
        "model.compile(optimizer='adam', loss='mean_squared_error')"
      ],
      "metadata": {
        "id": "eduq9mTc-6XX"
      },
      "execution_count": 9,
      "outputs": []
    },
    {
      "cell_type": "code",
      "source": [
        "# Reshape the data to fit LSTM input\n",
        "X_train_reshaped = np.reshape(X_train, (X_train.shape[0], X_train.shape[1], 1))\n",
        "X_test_reshaped = np.reshape(X_test, (X_test.shape[0], X_test.shape[1], 1))"
      ],
      "metadata": {
        "id": "hgFt3NL4-8ix"
      },
      "execution_count": 10,
      "outputs": []
    },
    {
      "cell_type": "code",
      "source": [
        "# Train the model\n",
        "history = model.fit(X_train_reshaped, y_train, batch_size=1, epochs=10, validation_data=(X_test_reshaped, y_test))"
      ],
      "metadata": {
        "colab": {
          "base_uri": "https://localhost:8080/"
        },
        "id": "3aWda5OS_A4p",
        "outputId": "efb05167-1234-42df-bfd1-f1bf6ff82ea3"
      },
      "execution_count": 11,
      "outputs": [
        {
          "output_type": "stream",
          "name": "stdout",
          "text": [
            "Epoch 1/10\n",
            "97/97 [==============================] - 6s 21ms/step - loss: 11.4523 - val_loss: 0.7794\n",
            "Epoch 2/10\n",
            "97/97 [==============================] - 1s 9ms/step - loss: 1.0045 - val_loss: 1.0779\n",
            "Epoch 3/10\n",
            "97/97 [==============================] - 1s 9ms/step - loss: 1.3698 - val_loss: 0.4901\n",
            "Epoch 4/10\n",
            "97/97 [==============================] - 1s 7ms/step - loss: 0.9436 - val_loss: 0.6518\n",
            "Epoch 5/10\n",
            "97/97 [==============================] - 1s 6ms/step - loss: 0.8852 - val_loss: 0.4615\n",
            "Epoch 6/10\n",
            "97/97 [==============================] - 1s 6ms/step - loss: 1.0108 - val_loss: 0.4268\n",
            "Epoch 7/10\n",
            "97/97 [==============================] - 1s 6ms/step - loss: 0.8322 - val_loss: 0.3451\n",
            "Epoch 8/10\n",
            "97/97 [==============================] - 1s 8ms/step - loss: 0.8383 - val_loss: 0.3316\n",
            "Epoch 9/10\n",
            "97/97 [==============================] - 1s 7ms/step - loss: 0.7098 - val_loss: 0.2953\n",
            "Epoch 10/10\n",
            "97/97 [==============================] - 1s 6ms/step - loss: 1.2202 - val_loss: 0.2959\n"
          ]
        }
      ]
    },
    {
      "cell_type": "code",
      "source": [
        "# Evaluate the model\n",
        "loss = model.evaluate(X_test_reshaped, y_test)\n",
        "print(f'Test Loss: {loss}')"
      ],
      "metadata": {
        "colab": {
          "base_uri": "https://localhost:8080/"
        },
        "id": "TC9rZNnT_Ftx",
        "outputId": "5076af70-b9c7-4c38-b8be-3544858b6ac1"
      },
      "execution_count": 12,
      "outputs": [
        {
          "output_type": "stream",
          "name": "stdout",
          "text": [
            "1/1 [==============================] - 1s 991ms/step - loss: 0.2959\n",
            "Test Loss: 0.2959263026714325\n"
          ]
        }
      ]
    },
    {
      "cell_type": "code",
      "source": [
        "# Make predictions\n",
        "predictions = model.predict(X_test_reshaped)"
      ],
      "metadata": {
        "colab": {
          "base_uri": "https://localhost:8080/"
        },
        "id": "QHp8fbmj_JDG",
        "outputId": "693f7796-bfa4-40b6-fd2f-17895d045c08"
      },
      "execution_count": 13,
      "outputs": [
        {
          "output_type": "stream",
          "name": "stdout",
          "text": [
            "1/1 [==============================] - 1s 865ms/step\n"
          ]
        }
      ]
    },
    {
      "cell_type": "code",
      "source": [
        "import numpy as np\n",
        "from sklearn.metrics import mean_absolute_error\n",
        "\n",
        "# Calculate Mean Absolute Error (MAE)\n",
        "mae = mean_absolute_error(y_test, predictions)\n",
        "print(f'Mean Absolute Error: {mae}')\n",
        "\n",
        "# Define a custom accuracy metric\n",
        "def custom_accuracy(y_true, y_pred, threshold=0.5):\n",
        "    correct_predictions = np.abs(y_true - y_pred) <= threshold\n",
        "    accuracy = np.mean(correct_predictions)\n",
        "    return accuracy\n",
        "\n",
        "# Calculate custom accuracy\n",
        "accuracy = custom_accuracy(y_test, predictions)\n",
        "print(f'Custom Accuracy: {accuracy * 100:.2f}%')"
      ],
      "metadata": {
        "colab": {
          "base_uri": "https://localhost:8080/"
        },
        "id": "uzAgvqHh_WXP",
        "outputId": "5e864490-2706-4526-bc9f-b464b3af0c3d"
      },
      "execution_count": 14,
      "outputs": [
        {
          "output_type": "stream",
          "name": "stdout",
          "text": [
            "Mean Absolute Error: 0.438441146850586\n",
            "Custom Accuracy: 61.44%\n"
          ]
        }
      ]
    }
  ],
  "metadata": {
    "colab": {
      "provenance": []
    },
    "kernelspec": {
      "display_name": "Python 3",
      "name": "python3"
    },
    "language_info": {
      "name": "python"
    }
  },
  "nbformat": 4,
  "nbformat_minor": 0
}